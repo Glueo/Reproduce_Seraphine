{
 "cells": [
  {
   "cell_type": "code",
   "execution_count": 2,
   "id": "456fb5dc",
   "metadata": {},
   "outputs": [],
   "source": [
    "import asyncio"
   ]
  },
  {
   "cell_type": "code",
   "execution_count": null,
   "id": "8ffa00a3",
   "metadata": {},
   "outputs": [
    {
     "name": "stdout",
     "output_type": "stream",
     "text": [
      "Async function executed\n"
     ]
    }
   ],
   "source": [
    "async def async_function():\n",
    "    await asyncio.sleep(1)\n",
    "    print(\"Async function executed\")\n",
    "\n",
    "\n",
    "await async_function()\n",
    "# 注意在jupyter中已经存在一个事件loop\n",
    "# 所以直接使用await即可，而不需要run（）\n"
   ]
  },
  {
   "cell_type": "markdown",
   "id": "995cb883",
   "metadata": {},
   "source": [
    "await 是 Python 异步编程（asyncio）中的关键字，用于 暂停当前协程的执行，等待异步操作完成，而不会阻塞整个程序。它的核心作用是 让出控制权，使事件循环（Event Loop）可以执行其他任务，从而提高并发性能。\n",
    "\n",
    "1. await 的作用\n",
    "（1）挂起当前协程，等待异步操作完成\n",
    "当你在 async def 定义的协程函数中遇到 await 时：\n",
    "\n",
    "当前协程会暂停执行，并让出 CPU 控制权。\n",
    "\n",
    "事件循环（Event Loop）会继续执行其他任务（如果有的话）。\n",
    "\n",
    "当 await 后面的异步操作（如 asyncio.sleep()、网络请求、文件读写等）完成后，协程会恢复执行。\n",
    "\n",
    "（2）非阻塞式等待\n",
    "await 不会阻塞整个程序，它只是让当前协程暂停，而其他协程可以继续运行。\n",
    "\n",
    "对比 同步阻塞（如 time.sleep(1)）：\n",
    "\n",
    "time.sleep(1) 会让整个线程暂停 1 秒，期间什么都不能做。\n",
    "\n",
    "await asyncio.sleep(1) 只会暂停当前协程，其他协程可以继续执行。"
   ]
  },
  {
   "cell_type": "code",
   "execution_count": null,
   "id": "d1a18ef0",
   "metadata": {},
   "outputs": [],
   "source": []
  },
  {
   "cell_type": "markdown",
   "id": "3ac19177",
   "metadata": {},
   "source": []
  }
 ],
 "metadata": {
  "kernelspec": {
   "display_name": "Seraphine",
   "language": "python",
   "name": "python3"
  },
  "language_info": {
   "codemirror_mode": {
    "name": "ipython",
    "version": 3
   },
   "file_extension": ".py",
   "mimetype": "text/x-python",
   "name": "python",
   "nbconvert_exporter": "python",
   "pygments_lexer": "ipython3",
   "version": "3.10.10"
  }
 },
 "nbformat": 4,
 "nbformat_minor": 5
}
