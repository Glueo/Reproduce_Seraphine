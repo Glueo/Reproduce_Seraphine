{
 "cells": [
  {
   "cell_type": "code",
   "execution_count": 1,
   "id": "24b14539",
   "metadata": {},
   "outputs": [],
   "source": [
    "# import asyncio"
   ]
  },
  {
   "cell_type": "code",
   "execution_count": 2,
   "id": "796a4d90",
   "metadata": {},
   "outputs": [],
   "source": [
    "# async def myawait():\n",
    "#     print (\"my_await is running\")"
   ]
  },
  {
   "cell_type": "code",
   "execution_count": 3,
   "id": "7f09ed75",
   "metadata": {},
   "outputs": [],
   "source": [
    "# print(type(myawait()))\n",
    "# # 返回的是一个协程（可等待对象之一)"
   ]
  },
  {
   "cell_type": "code",
   "execution_count": 4,
   "id": "3d7d5029",
   "metadata": {},
   "outputs": [],
   "source": [
    "# async def anotherone():\n",
    "#     await asyncio.sleep(3)"
   ]
  },
  {
   "cell_type": "code",
   "execution_count": 5,
   "id": "22ad99f3",
   "metadata": {},
   "outputs": [],
   "source": [
    "def coroutine_example(name:str):\n",
    "    print(f\"started coroutine {name}\")\n",
    "    x = yield name\n",
    "    print(f'send {x}')"
   ]
  },
  {
   "cell_type": "code",
   "execution_count": 6,
   "id": "96399e4e",
   "metadata": {},
   "outputs": [
    {
     "name": "stdout",
     "output_type": "stream",
     "text": [
      "started coroutine Zarten\n",
      "Zarten\n"
     ]
    }
   ],
   "source": [
    "coro = coroutine_example('Zarten')\n",
    "print(next(coro))"
   ]
  },
  {
   "cell_type": "code",
   "execution_count": 7,
   "id": "1fcc7795",
   "metadata": {},
   "outputs": [
    {
     "name": "stdout",
     "output_type": "stream",
     "text": [
      "started coroutine Zarten\n",
      "Zarten\n",
      "send 6\n"
     ]
    },
    {
     "ename": "StopIteration",
     "evalue": "",
     "output_type": "error",
     "traceback": [
      "\u001b[1;31m---------------------------------------------------------------------------\u001b[0m",
      "\u001b[1;31mStopIteration\u001b[0m                             Traceback (most recent call last)",
      "Cell \u001b[1;32mIn[7], line 4\u001b[0m\n\u001b[0;32m      2\u001b[0m \u001b[38;5;28mprint\u001b[39m(\u001b[38;5;28mnext\u001b[39m(coro))\n\u001b[0;32m      3\u001b[0m \u001b[38;5;66;03m# 使用next后语句停在teild处，然后send可以让调用方传递值\u001b[39;00m\n\u001b[1;32m----> 4\u001b[0m \u001b[38;5;28mprint\u001b[39m(\u001b[43mcoro\u001b[49m\u001b[38;5;241;43m.\u001b[39;49m\u001b[43msend\u001b[49m\u001b[43m(\u001b[49m\u001b[38;5;241;43m6\u001b[39;49m\u001b[43m)\u001b[49m)\n",
      "\u001b[1;31mStopIteration\u001b[0m: "
     ]
    }
   ],
   "source": [
    "coro = coroutine_example('Zarten')\n",
    "print(next(coro))\n",
    "# 使用next后语句停在teild处，然后send可以让调用方传递值\n",
    "print(coro.send(6))"
   ]
  },
  {
   "cell_type": "markdown",
   "id": "783a42cb",
   "metadata": {},
   "source": [
    "对上面现象的解释：<br>\n",
    "必须使用next关键词产出yeild的x才能继续向下执调用send。携程结束时抛出stop异常，调用方可以捕获并进行后续处理"
   ]
  },
  {
   "cell_type": "code",
   "execution_count": 19,
   "id": "7f132b53",
   "metadata": {},
   "outputs": [],
   "source": [
    "def coroutine_example(name:str):\n",
    "    print(f\"started coroutine {name}\")\n",
    "\n",
    "    while True:\n",
    "        x = yield name\n",
    "        if x is None:\n",
    "            return 'You send nothing!'\n",
    "        print(f'x: {x}')  "
   ]
  },
  {
   "cell_type": "code",
   "execution_count": 20,
   "id": "59cbdcd9",
   "metadata": {},
   "outputs": [],
   "source": [
    "core = coroutine_example(\"Glue\")"
   ]
  },
  {
   "cell_type": "code",
   "execution_count": 21,
   "id": "d18806d6",
   "metadata": {},
   "outputs": [
    {
     "name": "stdout",
     "output_type": "stream",
     "text": [
      "started coroutine Glue\n",
      "Glue\n"
     ]
    }
   ],
   "source": [
    "print(next(core))"
   ]
  },
  {
   "cell_type": "code",
   "execution_count": null,
   "id": "b1c06e2a",
   "metadata": {},
   "outputs": [
    {
     "name": "stdout",
     "output_type": "stream",
     "text": [
      "send None\n"
     ]
    },
    {
     "ename": "StopIteration",
     "evalue": "",
     "output_type": "error",
     "traceback": [
      "\u001b[1;31m---------------------------------------------------------------------------\u001b[0m",
      "\u001b[1;31mStopIteration\u001b[0m                             Traceback (most recent call last)",
      "Cell \u001b[1;32mIn[11], line 1\u001b[0m\n\u001b[1;32m----> 1\u001b[0m \u001b[38;5;28;43mnext\u001b[39;49m\u001b[43m(\u001b[49m\u001b[43mcore\u001b[49m\u001b[43m)\u001b[49m\n",
      "\u001b[1;31mStopIteration\u001b[0m: "
     ]
    }
   ],
   "source": [
    "next(core)\n",
    "# 如果不传入值，终止循环"
   ]
  },
  {
   "cell_type": "code",
   "execution_count": 22,
   "id": "a79f21da",
   "metadata": {},
   "outputs": [
    {
     "name": "stdout",
     "output_type": "stream",
     "text": [
      "x: 6\n",
      "Glue\n",
      "x: This will give as x\n",
      "Glue\n"
     ]
    }
   ],
   "source": [
    "print(core.send(6))\n",
    "print(core.send('This will give as x'))"
   ]
  },
  {
   "cell_type": "code",
   "execution_count": 23,
   "id": "b2a962a1",
   "metadata": {},
   "outputs": [
    {
     "name": "stdout",
     "output_type": "stream",
     "text": [
      "You send nothing!\n"
     ]
    }
   ],
   "source": [
    "try:\n",
    "    core.send(None)\n",
    "except StopIteration as e:\n",
    "    print(f\"{e.value}\")"
   ]
  },
  {
   "cell_type": "code",
   "execution_count": 24,
   "id": "119ae6c0",
   "metadata": {},
   "outputs": [
    {
     "name": "stdout",
     "output_type": "stream",
     "text": [
      "None\n"
     ]
    }
   ],
   "source": [
    "try:\n",
    "    core.send(6)\n",
    "except StopIteration as e:\n",
    "    print(f\"{e.value}\")"
   ]
  },
  {
   "cell_type": "code",
   "execution_count": null,
   "id": "1523557b",
   "metadata": {},
   "outputs": [
    {
     "name": "stdout",
     "output_type": "stream",
     "text": [
      "[0, 1, 2]\n"
     ]
    }
   ],
   "source": [
    "def for_a_test():\n",
    "    for i in range(3):\n",
    "        yield i\n",
    "print(list(for_a_test()))"
   ]
  },
  {
   "cell_type": "code",
   "execution_count": null,
   "id": "6a078281",
   "metadata": {},
   "outputs": [
    {
     "name": "stdout",
     "output_type": "stream",
     "text": [
      "[0, 1, 2]\n"
     ]
    }
   ],
   "source": [
    "def for_yield_from():\n",
    "    yield from range(3) # 自动捕获stop iteration异常并将返回值value变成yield from表达式的值\n",
    "\n",
    "print(list(for_yield_from()))"
   ]
  },
  {
   "cell_type": "code",
   "execution_count": null,
   "id": "22589cee",
   "metadata": {},
   "outputs": [],
   "source": []
  }
 ],
 "metadata": {
  "kernelspec": {
   "display_name": "Seraphine",
   "language": "python",
   "name": "python3"
  },
  "language_info": {
   "codemirror_mode": {
    "name": "ipython",
    "version": 3
   },
   "file_extension": ".py",
   "mimetype": "text/x-python",
   "name": "python",
   "nbconvert_exporter": "python",
   "pygments_lexer": "ipython3",
   "version": "3.10.10"
  }
 },
 "nbformat": 4,
 "nbformat_minor": 5
}
