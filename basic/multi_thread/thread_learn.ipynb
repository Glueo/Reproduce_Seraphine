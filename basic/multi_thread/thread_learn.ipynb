{
 "cells": [
  {
   "cell_type": "code",
   "execution_count": 4,
   "id": "9b91bc69",
   "metadata": {},
   "outputs": [],
   "source": [
    "import _thread\n",
    "import threading\n",
    "import time"
   ]
  },
  {
   "cell_type": "code",
   "execution_count": 7,
   "id": "ba532fe6",
   "metadata": {},
   "outputs": [],
   "source": [
    "def print_time(threadname,delay):\n",
    "    count = 0\n",
    "    while count < 5 :\n",
    "        time.sleep(delay)\n",
    "        count+=1\n",
    "        print(\"%s:%s\"%(threadname,time.ctime(time.time())))"
   ]
  },
  {
   "cell_type": "code",
   "execution_count": null,
   "id": "a8bf882b",
   "metadata": {},
   "outputs": [
    {
     "name": "stdout",
     "output_type": "stream",
     "text": [
      "Thread-1:Tue May  6 14:47:54 2025\n",
      "Thread-2:Tue May  6 14:47:56 2025Thread-1:Tue May  6 14:47:56 2025\n",
      "\n",
      "Thread-1:Tue May  6 14:47:58 2025\n",
      "Thread-2:Tue May  6 14:48:00 2025Thread-1:Tue May  6 14:48:00 2025\n",
      "\n",
      "Thread-1:Tue May  6 14:48:02 2025\n",
      "Thread-2:Tue May  6 14:48:04 2025\n",
      "Thread-2:Tue May  6 14:48:08 2025\n",
      "Thread-2:Tue May  6 14:48:12 2025\n"
     ]
    }
   ],
   "source": [
    "try:\n",
    "    _thread.start_new_thread(print_time,(\"Thread-1\",2))\n",
    "    _thread.start_new_thread(print_time,(\"Thread-2\",4))\n",
    "except:\n",
    "    print(\"Error in Thread\")"
   ]
  },
  {
   "cell_type": "code",
   "execution_count": 14,
   "id": "6fc95934",
   "metadata": {},
   "outputs": [
    {
     "name": "stdout",
     "output_type": "stream",
     "text": [
      "0\n",
      "1\n",
      "2\n",
      "3\n",
      "4\n"
     ]
    }
   ],
   "source": [
    "# 学习Threading\n",
    "# 查看正在运行的线程\n",
    "threading.enumerate()\n",
    "\n",
    "def print_numbers():\n",
    "    for i in range(5):\n",
    "        time.sleep(1)\n",
    "        print(i)\n",
    "\n",
    "\n",
    "# create new thread\n",
    "thread1 = threading.Thread(target=print_numbers)\n",
    "\n",
    "# start new thread\n",
    "thread1.start()\n",
    "\n",
    "# wait it end\n",
    "thread1.join()"
   ]
  },
  {
   "cell_type": "code",
   "execution_count": 23,
   "id": "a304ad7a",
   "metadata": {},
   "outputs": [],
   "source": [
    "# init my own thread\n",
    "exit_Flag = 0\n",
    "\n",
    "class MyOwnThread(threading.Thread):\n",
    "    def __init__(self, group = None, target = None, name = None, args = ..., kwargs = None, *, daemon = None,threadID=None,delay=None):\n",
    "        super().__init__(group, target, name, args, kwargs, daemon=daemon)\n",
    "        self.threadID=threadID\n",
    "        self.name=name\n",
    "        self.delay=delay\n",
    "        \n",
    "\n",
    "    def run(self):\n",
    "        print(f\"Now we start : {self.name}\")\n",
    "        print_time(self.name,self.delay,5)\n",
    "        print(f\"Now the Thread dead:{self.name}\")\n",
    "\n",
    "def print_time(threadname,delay,counter):\n",
    "    while counter:\n",
    "        if exit_Flag:\n",
    "            return None\n",
    "        time.sleep(delay)\n",
    "        print(f\"{threadname}:{time.ctime(time.time())}\")\n",
    "        counter-=1"
   ]
  },
  {
   "cell_type": "code",
   "execution_count": 32,
   "id": "7fecec46",
   "metadata": {},
   "outputs": [],
   "source": [
    "# creat new thread\n",
    "thread1 = MyOwnThread(name=\"Thread-1\",delay=1)\n",
    "thread2 = MyOwnThread(name=\"Thread-2\",delay=2)"
   ]
  },
  {
   "cell_type": "code",
   "execution_count": 33,
   "id": "b7ceda88",
   "metadata": {},
   "outputs": [
    {
     "name": "stdout",
     "output_type": "stream",
     "text": [
      "Now we start : Thread-1\n",
      "Now we start : Thread-2\n",
      "Thread-1:Tue May  6 15:21:20 2025\n",
      "Thread-2:Tue May  6 15:21:21 2025Thread-1:Tue May  6 15:21:21 2025\n",
      "\n",
      "Thread-1:Tue May  6 15:21:22 2025\n",
      "Thread-2:Tue May  6 15:21:23 2025\n",
      "Thread-1:Tue May  6 15:21:23 2025\n",
      "Thread-1:Tue May  6 15:21:24 2025\n",
      "Now the Thread dead:Thread-1\n",
      "Thread-2:Tue May  6 15:21:25 2025\n",
      "Thread-2:Tue May  6 15:21:27 2025\n",
      "Thread-2:Tue May  6 15:21:29 2025\n",
      "Now the Thread dead:Thread-2\n",
      "Now the main thread is dead!\n"
     ]
    }
   ],
   "source": [
    "# start our thread\n",
    "thread1.start()\n",
    "thread2.start()\n",
    "thread1.join()\n",
    "thread2.join()\n",
    "print(\"Now the main thread is dead!\")"
   ]
  },
  {
   "cell_type": "markdown",
   "id": "75b0f703",
   "metadata": {},
   "source": [
    "注意到如果不加入join，则会直接跳过阻塞的线程直接运行主线程\n",
    "如下：\n",
    "<br>\n",
    "也就是说，join会让主线程等待该线程结束运行，一直阻塞，另外，还可以指定timeout参数限定线程最大运行时间"
   ]
  },
  {
   "cell_type": "code",
   "execution_count": null,
   "id": "90efa500",
   "metadata": {},
   "outputs": [
    {
     "name": "stdout",
     "output_type": "stream",
     "text": [
      "Now we start : Thread-1\n",
      "Now we start : Thread-2\n",
      "Now the main thread is dead!\n"
     ]
    },
    {
     "name": "stdout",
     "output_type": "stream",
     "text": [
      "Thread-1:Tue May  6 15:23:03 2025\n",
      "Thread-2:Tue May  6 15:23:04 2025\n",
      "Thread-1:Tue May  6 15:23:04 2025\n",
      "Thread-1:Tue May  6 15:23:05 2025\n",
      "Thread-2:Tue May  6 15:23:06 2025\n",
      "Thread-1:Tue May  6 15:23:06 2025\n",
      "Thread-1:Tue May  6 15:23:07 2025\n",
      "Now the Thread dead:Thread-1\n",
      "Thread-2:Tue May  6 15:23:08 2025\n",
      "Thread-2:Tue May  6 15:23:10 2025\n",
      "Thread-2:Tue May  6 15:23:12 2025\n",
      "Now the Thread dead:Thread-2\n"
     ]
    }
   ],
   "source": [
    "thread1 = MyOwnThread(name=\"Thread-1\",delay=1)\n",
    "thread2 = MyOwnThread(name=\"Thread-2\",delay=2)\n",
    "thread1.start()\n",
    "thread2.start()\n",
    "# thread1.join()\n",
    "# thread2.join()\n",
    "print(\"Now the main thread is dead!\")"
   ]
  },
  {
   "cell_type": "code",
   "execution_count": 37,
   "id": "6fa182d9",
   "metadata": {},
   "outputs": [
    {
     "name": "stdout",
     "output_type": "stream",
     "text": [
      "开启线程： Thread-1\n",
      "Thread-1 gets a lock\n",
      "开启线程： Thread-2\n",
      "Thread-1: Tue May  6 15:48:33 2025\n",
      "Thread-1: Tue May  6 15:48:34 2025\n",
      "Thread-1: Tue May  6 15:48:35 2025\n",
      "Thread-1 released the lock\n",
      "Thread-2 gets a lock\n",
      "Thread-2: Tue May  6 15:48:37 2025\n",
      "Thread-2: Tue May  6 15:48:39 2025\n",
      "Thread-2: Tue May  6 15:48:42 2025\n",
      "Thread-2 released the lock\n",
      "退出主线程\n"
     ]
    }
   ],
   "source": [
    "# Thread lock\n",
    "class myThread (threading.Thread):\n",
    "    def __init__(self, threadID, name, delay):\n",
    "        threading.Thread.__init__(self)\n",
    "        self.threadID = threadID\n",
    "        self.name = name\n",
    "        self.delay = delay\n",
    "    def run(self):\n",
    "        print (\"开启线程： \" + self.name)\n",
    "        # 获取锁，用于线程同步\n",
    "        threadLock.acquire()\n",
    "        print(f'{self.name} gets a lock')\n",
    "        print_time(self.name, self.delay, 3)\n",
    "        # 释放锁，开启下一个线程\n",
    "        threadLock.release()\n",
    "        print(f'{self.name} released the lock')\n",
    "\n",
    "def print_time(threadName, delay, counter):\n",
    "    while counter:\n",
    "        time.sleep(delay)\n",
    "        print (\"%s: %s\" % (threadName, time.ctime(time.time())))\n",
    "        counter -= 1\n",
    "\n",
    "threadLock = threading.Lock()\n",
    "threads = []\n",
    "\n",
    "# 创建新线程\n",
    "thread1 = myThread(1, \"Thread-1\", 1)\n",
    "thread2 = myThread(2, \"Thread-2\", 2)\n",
    "\n",
    "# 开启新线程\n",
    "thread1.start()\n",
    "thread2.start()\n",
    "\n",
    "# 添加线程到线程列表\n",
    "threads.append(thread1)\n",
    "threads.append(thread2)\n",
    "\n",
    "# 等待所有线程完成\n",
    "for t in threads:\n",
    "    t.join()\n",
    "print (\"退出主线程\")"
   ]
  },
  {
   "cell_type": "code",
   "execution_count": 41,
   "id": "5a9b70a6",
   "metadata": {},
   "outputs": [
    {
     "name": "stdout",
     "output_type": "stream",
     "text": [
      "开启线程：Thread-1\n",
      "Thread-1 gets a lock,the quque size is 0\n",
      "Thread-1 released the lock,and the queue size is 0\n",
      "开启线程：Thread-2\n",
      "Thread-2 gets a lock,the quque size is 0\n",
      "Thread-2 released the lock,and the queue size is 0\n",
      "开启线程：Thread-3\n",
      "Thread-3 gets a lock,the quque size is 0\n",
      "Thread-3 released the lock,and the queue size is 0\n",
      "Thread-3 gets a lock,the quque size is 5\n",
      "Thread-3 processing One\n",
      "Thread-2 gets a lock,the quque size is 4\n",
      "Thread-2 processing Two\n",
      "Thread-1 gets a lock,the quque size is 3\n",
      "Thread-1 processing Three\n",
      "Thread-3 gets a lock,the quque size is 2\n",
      "Thread-3 processing Four\n",
      "Thread-2 gets a lock,the quque size is 1\n",
      "Thread-2 processing Five\n",
      "Thread-1 gets a lock,the quque size is 0\n",
      "Thread-1 released the lock,and the queue size is 0\n",
      "退出线程：Thread-3\n",
      "退出线程：Thread-1\n",
      "退出线程：Thread-2\n",
      "退出主线程\n"
     ]
    }
   ],
   "source": [
    "import queue\n",
    "\n",
    "exitFlag = 0\n",
    "\n",
    "class myThread (threading.Thread):\n",
    "    def __init__(self, threadID, name, q):\n",
    "        threading.Thread.__init__(self)\n",
    "        self.threadID = threadID\n",
    "        self.name = name\n",
    "        self.q = q\n",
    "    def run(self):\n",
    "        print (\"开启线程：\" + self.name)\n",
    "        process_data(self.name, self.q)\n",
    "        print (\"退出线程：\" + self.name)\n",
    "\n",
    "def process_data(threadName, q:queue.Queue):\n",
    "    while not exitFlag:\n",
    "        queueLock.acquire()\n",
    "        print(f'{threadName} gets a lock,the quque size is {q.qsize()}')\n",
    "        if not workQueue.empty():\n",
    "            data = q.get()\n",
    "            queueLock.release()\n",
    "            print (\"%s processing %s\" % (threadName, data))\n",
    "        else:\n",
    "            queueLock.release()\n",
    "            print(f'{threadName} released the lock,and the queue size is {q.qsize()}')\n",
    "        time.sleep(1)\n",
    "\n",
    "threadList = [\"Thread-1\", \"Thread-2\", \"Thread-3\"]\n",
    "nameList = [\"One\", \"Two\", \"Three\", \"Four\", \"Five\"]\n",
    "queueLock = threading.Lock()\n",
    "workQueue = queue.Queue(10)\n",
    "threads = []\n",
    "threadID = 1\n",
    "\n",
    "# 创建新线程\n",
    "for tName in threadList:\n",
    "    thread = myThread(threadID, tName, workQueue)\n",
    "    thread.start()\n",
    "    threads.append(thread)\n",
    "    threadID += 1\n",
    "\n",
    "# 填充队列\n",
    "queueLock.acquire()\n",
    "for word in nameList:\n",
    "    workQueue.put(word)\n",
    "queueLock.release()\n",
    "\n",
    "# 等待队列清空\n",
    "while not workQueue.empty():\n",
    "    pass\n",
    "\n",
    "# 通知线程是时候退出\n",
    "exitFlag = 1\n",
    "\n",
    "# 等待所有线程完成\n",
    "for t in threads:\n",
    "    t.join()\n",
    "print (\"退出主线程\")"
   ]
  },
  {
   "cell_type": "code",
   "execution_count": null,
   "id": "7976a458",
   "metadata": {},
   "outputs": [],
   "source": []
  }
 ],
 "metadata": {
  "kernelspec": {
   "display_name": "Seraphine",
   "language": "python",
   "name": "python3"
  },
  "language_info": {
   "codemirror_mode": {
    "name": "ipython",
    "version": 3
   },
   "file_extension": ".py",
   "mimetype": "text/x-python",
   "name": "python",
   "nbconvert_exporter": "python",
   "pygments_lexer": "ipython3",
   "version": "3.10.10"
  }
 },
 "nbformat": 4,
 "nbformat_minor": 5
}
